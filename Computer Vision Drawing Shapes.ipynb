{
 "cells": [
  {
   "cell_type": "code",
   "execution_count": 1,
   "metadata": {},
   "outputs": [],
   "source": [
    "import cv2\n",
    "import numpy as np\n",
    "from matplotlib import pyplot as plt"
   ]
  },
  {
   "cell_type": "code",
   "execution_count": 34,
   "metadata": {},
   "outputs": [],
   "source": [
    "#Creating a line\n",
    "img = np.zeros((400, 400, 3), dtype = \"uint8\") \n",
    "# Creating line \n",
    "cv2.line(img, (20, 160), (200, 160), (0, 0, 255), 10) \n",
    "cv2.imshow('dark', img) \n",
    "cv2.waitKey(0)\n",
    "cv2.destroyAllWindows()"
   ]
  },
  {
   "cell_type": "code",
   "execution_count": 35,
   "metadata": {},
   "outputs": [],
   "source": [
    "# Creating T letter with the help of cv2.line \n",
    "img = np.zeros((400, 400, 3), dtype = \"uint8\") \n",
    "cv2.line(img, (20, 160), (350, 160), (0, 0, 255), 10) \n",
    "cv2.line(img, (200, 360), (200, 160), (0, 0, 255), 10)\n",
    "cv2.imshow('dark', img) \n",
    "cv2.waitKey(0)\n",
    "cv2.destroyAllWindows()"
   ]
  },
  {
   "cell_type": "code",
   "execution_count": 36,
   "metadata": {},
   "outputs": [],
   "source": [
    "# Creating a rectangle \n",
    "img = np.zeros((400, 400, 3), dtype = \"uint8\") \n",
    "cv2.rectangle(img, (30, 30), (300, 200), (0, 255, 0), 10) \n",
    "cv2.imshow('dark', img)  \n",
    "cv2.waitKey(0) \n",
    "cv2.destroyAllWindows() "
   ]
  },
  {
   "cell_type": "code",
   "execution_count": 37,
   "metadata": {},
   "outputs": [],
   "source": [
    "#Creating a circle\n",
    "img = np.zeros((400, 400, 3), dtype = \"uint8\") \n",
    "cv2.circle(img, (200, 200), 80, (255, 0, 0), 3)   \n",
    "cv2.imshow('dark', img) \n",
    "cv2.waitKey(0) \n",
    "cv2.destroyAllWindows() "
   ]
  },
  {
   "cell_type": "code",
   "execution_count": null,
   "metadata": {},
   "outputs": [],
   "source": []
  }
 ],
 "metadata": {
  "kernelspec": {
   "display_name": "Python 3",
   "language": "python",
   "name": "python3"
  },
  "language_info": {
   "codemirror_mode": {
    "name": "ipython",
    "version": 3
   },
   "file_extension": ".py",
   "mimetype": "text/x-python",
   "name": "python",
   "nbconvert_exporter": "python",
   "pygments_lexer": "ipython3",
   "version": "3.7.3"
  }
 },
 "nbformat": 4,
 "nbformat_minor": 2
}
